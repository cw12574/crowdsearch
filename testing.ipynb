{
 "cells": [
  {
   "cell_type": "code",
   "execution_count": 2,
   "metadata": {},
   "outputs": [],
   "source": [
    "import praw\n",
    "\n",
    "reddit = praw.Reddit(\n",
    "    client_id='lLzAuBHDjs8cCYEuTrKh3w',\n",
    "    client_secret='uqMNWpDSXYxLXpgZ90y-wWspCgYC7A',\n",
    "    username='servesociety',\n",
    "    password='Hunters3!',\n",
    "    user_agent=\"CrowdSearch\",\n",
    ")"
   ]
  },
  {
   "cell_type": "code",
   "execution_count": 3,
   "metadata": {},
   "outputs": [],
   "source": [
    "from praw.models import MoreComments\n",
    "\n",
    "def search(srch):\n",
    "\n",
    "    all = reddit.subreddit(\"all\")\n",
    "    posts = []\n",
    "    for post in all.search(srch, limit=5):\n",
    "        posts.append(post.id)\n",
    "\n",
    "    submission = reddit.submission(posts[0])\n",
    "\n",
    "    for top_level_comment in submission.comments:\n",
    "        return (top_level_comment.body)\n",
    "\n",
    "    "
   ]
  },
  {
   "cell_type": "code",
   "execution_count": 110,
   "metadata": {},
   "outputs": [
    {
     "data": {
      "text/plain": [
       "(('Only 27 people showed up to pro-Trump rally in Washington DC',\n",
       "  'Yep. If there’s any place where Donald has worn out his welcome, its DC.',\n",
       "  5485,\n",
       "  1665268589.0),\n",
       " ('Only 27 people showed up to pro-Trump rally in Washington DC',\n",
       "  'Eleven reporters, 12 protesters, two hookers, one hot dog vendor and the black guy Trump pays to be at all his rallies.',\n",
       "  11907,\n",
       "  1665269208.0),\n",
       " ('Donald Trump is asking supporters to boycott all elections. I 100% support this strategy.',\n",
       "  '(In the most monotone voice you can muster)\\n\\nOh no.  Please stop.  Anything but that.',\n",
       "  4902,\n",
       "  1665073874.0),\n",
       " ('Donald Trump is asking supporters to boycott all elections. I 100% support this strategy.',\n",
       "  \"What was it ol' Lindsey Graham said back in 2016? If we nominate Trump we will get destroyed, and we will deserve it? Well they hitched their wagon to the wrong horse, and it's currently dragging the whole party to a watery hell.\",\n",
       "  6267,\n",
       "  1665073592.0),\n",
       " ('Trump asks Supreme Court to halt DOJ review of classified documents seized from Mar-a-Lago',\n",
       "  '“…saying or implying that the court is becoming an illegitimate institution or questioning our integrity crosses an important line”—Samuel Alito\\n\\nHere’s your moment to shine, Sam.',\n",
       "  4052,\n",
       "  1664913490.0))"
      ]
     },
     "execution_count": 110,
     "metadata": {},
     "output_type": "execute_result"
    }
   ],
   "source": [
    "def merge(list1, list2, list3, list4):\n",
    "      \n",
    "    merged_list = tuple(zip(list1, list2, list3, list4)) \n",
    "    return merged_list\n",
    "\n",
    "def searches(srch):\n",
    "    titles = []\n",
    "    comms = []\n",
    "    upvotes = []\n",
    "    date = []\n",
    "    breakout = False\n",
    "\n",
    "    for submission in reddit.subreddit('all').search(srch, limit=20):\n",
    "        if breakout:\n",
    "            break\n",
    "        comments = submission.comments\n",
    "        for comment in comments:\n",
    "            if len(comms) == 5:\n",
    "                breakout = True\n",
    "                break\n",
    "            elif len(comms) < 11 and comment.stickied == False:\n",
    "                titles.append(submission.title)\n",
    "                comms.append(comment.body)\n",
    "                upvotes.append(comment.ups)\n",
    "                date.append(comment.created)\n",
    "                if len(comms) % 2 == 0:\n",
    "                    break\n",
    "            elif len(comms) < 11 and comment.stickied == True:\n",
    "                pass\n",
    "       \n",
    "    data = merge(titles,comms,upvotes,date) \n",
    "\n",
    "    return datsearches(\"Trump\")"
   ]
  },
  {
   "cell_type": "code",
   "execution_count": 151,
   "metadata": {},
   "outputs": [
    {
     "ename": "AttributeError",
     "evalue": "'MoreComments' object has no attribute 'stickied'",
     "output_type": "error",
     "traceback": [
      "\u001b[1;31m---------------------------------------------------------------------------\u001b[0m",
      "\u001b[1;31mAttributeError\u001b[0m                            Traceback (most recent call last)",
      "\u001b[1;32mc:\\xampp2\\htdocs\\Crowdsearch\\testing.ipynb Cell 4\u001b[0m in \u001b[0;36m<cell line: 3>\u001b[1;34m()\u001b[0m\n\u001b[0;32m      <a href='vscode-notebook-cell:/c%3A/xampp2/htdocs/Crowdsearch/testing.ipynb#X10sZmlsZQ%3D%3D?line=4'>5</a>\u001b[0m comments \u001b[39m=\u001b[39m sub\u001b[39m.\u001b[39mcomments\n\u001b[0;32m      <a href='vscode-notebook-cell:/c%3A/xampp2/htdocs/Crowdsearch/testing.ipynb#X10sZmlsZQ%3D%3D?line=6'>7</a>\u001b[0m \u001b[39mfor\u001b[39;00m comment \u001b[39min\u001b[39;00m comments:\n\u001b[1;32m----> <a href='vscode-notebook-cell:/c%3A/xampp2/htdocs/Crowdsearch/testing.ipynb#X10sZmlsZQ%3D%3D?line=7'>8</a>\u001b[0m     \u001b[39mif\u001b[39;00m comment\u001b[39m.\u001b[39;49mstickied \u001b[39m==\u001b[39m \u001b[39mFalse\u001b[39;00m:\n\u001b[0;32m      <a href='vscode-notebook-cell:/c%3A/xampp2/htdocs/Crowdsearch/testing.ipynb#X10sZmlsZQ%3D%3D?line=8'>9</a>\u001b[0m         allpost_ids\u001b[39m.\u001b[39mappend(comment\u001b[39m.\u001b[39mbody)\n\u001b[0;32m     <a href='vscode-notebook-cell:/c%3A/xampp2/htdocs/Crowdsearch/testing.ipynb#X10sZmlsZQ%3D%3D?line=9'>10</a>\u001b[0m         \u001b[39mif\u001b[39;00m \u001b[39mlen\u001b[39m(allpost_ids) \u001b[39m%\u001b[39m \u001b[39m2\u001b[39m \u001b[39m==\u001b[39m \u001b[39m0\u001b[39m:\n",
      "\u001b[1;31mAttributeError\u001b[0m: 'MoreComments' object has no attribute 'stickied'"
     ]
    }
   ],
   "source": [
    "allpost_ids = []\n",
    "\n",
    "for sub in reddit.subreddit('all').search(\"Trump\", limit=5):\n",
    "\n",
    "    comments = sub.comments\n",
    "    \n",
    "    for comment in comments:\n",
    "        if comment.stickied == False:\n",
    "            allpost_ids.append(comment.body)\n",
    "            if len(allpost_ids) % 2 == 0:\n",
    "                pass\n",
    "        if len(allpost_ids) == 10:\n",
    "            breakout = True\n",
    "    if breakout:\n",
    "        break\n",
    "\n",
    "print (allpost_ids)\n",
    "\n",
    "fullnames = [f\"t3_{id}\" for id in allpost_ids]\n",
    "for i,submission in enumerate(reddit.info(fullnames=fullnames)):\n",
    "    print(f\"Processing post:{i}, with ID: {submission.id} {submission.title}\")"
   ]
  },
  {
   "cell_type": "code",
   "execution_count": 144,
   "metadata": {},
   "outputs": [
    {
     "name": "stdout",
     "output_type": "stream",
     "text": [
      "['xz5kdd', 'irkcp8f', 'irkd3na', 'irkee3f', 'irkddql', 'xz5kdd', 'xx98x2', 'xvov7w']\n",
      "Processing post:0, with ID: xz5kdd\n",
      "Processing post:1, with ID: xz5kdd\n",
      "Processing post:2, with ID: xx98x2\n",
      "Processing post:3, with ID: xvov7w\n"
     ]
    }
   ],
   "source": [
    "for sub in reddit.subreddit('all').search(\"Trump\", limit=3):\n",
    "    allpost_ids.append(sub.id)\n",
    "\n",
    "print(allpost_ids)\n",
    "\n",
    "fullnames = [f\"t3_{id}\" for id in allpost_ids]\n",
    "for i, submission in enumerate(reddit.info(fullnames=fullnames)):\n",
    "    print(f\"Processing post:{i}, with ID: {submission.id}\")\n",
    "    "
   ]
  },
  {
   "cell_type": "code",
   "execution_count": 114,
   "metadata": {},
   "outputs": [
    {
     "ename": "SyntaxError",
     "evalue": "invalid syntax (1950409185.py, line 1)",
     "output_type": "error",
     "traceback": [
      "\u001b[1;36m  Input \u001b[1;32mIn [114]\u001b[1;36m\u001b[0m\n\u001b[1;33m    info(\"Trump\", fullnames: Optional[Iterable[str]] = None, subreddits:\u001b[0m\n\u001b[1;37m                           ^\u001b[0m\n\u001b[1;31mSyntaxError\u001b[0m\u001b[1;31m:\u001b[0m invalid syntax\n"
     ]
    }
   ],
   "source": [
    "info(, fullnames: Optional[Iterable[str]] = None, subreddits: \n",
    "Optional[Iterable[Union[praw.models.Subreddit, str]]] = None, url: Optional[str] = None)→ Generator[Union[praw.models.Subreddit, praw.models.Comment, praw.models.Submission], None, None]"
   ]
  },
  {
   "cell_type": "code",
   "execution_count": 103,
   "metadata": {},
   "outputs": [
    {
     "name": "stdout",
     "output_type": "stream",
     "text": [
      "[]\n"
     ]
    }
   ],
   "source": [
    "html_text = requests.get('http://hn.algolia.com/api/v1/search?query=' + 'will trump run as president' + '&tags=story').text\n",
    "data = json.loads(html_text)\n",
    "hits = data[\"hits\"]\n",
    "\n",
    "print(hits)"
   ]
  },
  {
   "cell_type": "code",
   "execution_count": 13,
   "metadata": {},
   "outputs": [],
   "source": [
    "import json\n",
    "from flask import request, Flask, Blueprint, render_template, redirect, url_for\n",
    "import praw\n",
    "import requests\n",
    "from praw.models import MoreComments\n",
    "import datetime\n",
    "\n",
    "reddit = praw.Reddit(\n",
    "    client_id='lLzAuBHDjs8cCYEuTrKh3w',\n",
    "    client_secret='uqMNWpDSXYxLXpgZ90y-wWspCgYC7A',\n",
    "    username='servesociety',\n",
    "    password='Hunters3!',\n",
    "    user_agent=\"CrowdSearch\",\n",
    ")\n",
    "\n",
    "def merge(list1, list2, list3, list4, list5):\n",
    "      \n",
    "    merged_list = tuple(zip(list1, list2, list3, list4, list5)) \n",
    "    return merged_list\n"
   ]
  },
  {
   "cell_type": "code",
   "execution_count": 26,
   "metadata": {},
   "outputs": [
    {
     "data": {
      "text/plain": [
       "[('What’s your first move if trump gets re-elected in 2024?',\n",
       "  'Make a post somewhere on the internet saying \"not my president\" and when someone criticizes me I I tell them that I am technically right sonce I\\'m not from the US',\n",
       "  36043,\n",
       "  '2022-10-17',\n",
       "  'Reddit'),\n",
       " ('Only 27 people showed up to pro-Trump rally in Washington DC',\n",
       "  'Eleven reporters, 12 protesters, two hookers, one hot dog vendor and the black guy Trump pays to be at all his rallies.',\n",
       "  11927,\n",
       "  '2022-10-08',\n",
       "  'Reddit'),\n",
       " ('Trump asks Supreme Court to halt DOJ review of classified documents seized from Mar-a-Lago',\n",
       "  'Is the special master review not going as he had hoped *already?*',\n",
       "  9049,\n",
       "  '2022-10-04',\n",
       "  'Reddit'),\n",
       " ('Donald Trump is asking supporters to boycott all elections. I 100% support this strategy.',\n",
       "  \"What was it ol' Lindsey Graham said back in 2016? If we nominate Trump we will get destroyed, and we will deserve it? Well they hitched their wagon to the wrong horse, and it's currently dragging the whole party to a watery hell.\",\n",
       "  6274,\n",
       "  '2022-10-06',\n",
       "  'Reddit'),\n",
       " ('Donald Trump is the president-elect of the U.S.',\n",
       "  'https://news.ycombinator.com/item?id=12907201',\n",
       "  1817,\n",
       "  '2016-11-09',\n",
       "  'Hacker News'),\n",
       " ('Trump administration announces overhaul of H1B visa program requiring higher pay',\n",
       "  'https://news.ycombinator.com/item?id=24702393',\n",
       "  1256,\n",
       "  '2020-10-06',\n",
       "  'Hacker News')]"
      ]
     },
     "execution_count": 26,
     "metadata": {},
     "output_type": "execute_result"
    }
   ],
   "source": [
    "def searches(srch):\n",
    "\n",
    "    titles = []\n",
    "    comms = []\n",
    "    upvotes = []\n",
    "    date = []\n",
    "    platform = []\n",
    "    url = []\n",
    "    subreddit = []\n",
    "    breakout = False\n",
    "\n",
    "    html_text = requests.get('http://hn.algolia.com/api/v1/search?query=' + srch + '&tags=story').text\n",
    "    data = json.loads(html_text)\n",
    "    hits = data[\"hits\"]\n",
    "\n",
    "    for x in range(2): \n",
    "        if len(hits)>x:\n",
    "            titles.append(hits[x]['title'])\n",
    "            postid = hits[x]['objectID']\n",
    "            comms.append('https://news.ycombinator.com/item?id='+ postid)\n",
    "            upvotes.append(hits[x]['points'])\n",
    "            format_date = hits[x]['created_at']\n",
    "            date.append(format_date[0:10])\n",
    "            platform.append(\"Hacker News\")\n",
    "        else:\n",
    "            break\n",
    "\n",
    "    for submission in reddit.subreddit('all').search(srch, limit=10):\n",
    "        submission.comment_sort = 'top'\n",
    "        submission.comment_limit = 2\n",
    "        submission.comments.replace_more(limit=0)\n",
    "        if breakout:\n",
    "            break\n",
    "        comments = submission.comments\n",
    "        for comment in comments:\n",
    "            if len(comms) == 6:\n",
    "                breakout = True\n",
    "                break\n",
    "            elif len(comms) < 11 and comment.stickied == False:\n",
    "                titles.append(submission.title)\n",
    "                comms.append(comment.body)\n",
    "                upvotes.append(comment.ups)\n",
    "                formatted_date = datetime.datetime.utcfromtimestamp(comment.created)\n",
    "                formatted_date2 = str(formatted_date)\n",
    "                date.append(formatted_date2[0:10])\n",
    "                url.append(submission)\n",
    "                platform.append(\"Reddit\")\n",
    "                subreddit.append(submission.subreddit)\n",
    "                if len(comms) % 2 == 0:\n",
    "                    break\n",
    "            elif len(comms) < 11 and comment.stickied == True:\n",
    "                pass\n",
    "\n",
    "    data = merge(titles,comms,upvotes,date,platform)\n",
    "    sorted_by_popularity= sorted(data, key=lambda tup: tup[2], reverse=True)\n",
    "\n",
    "    return sorted_by_popularity\n",
    "\n",
    "searches(\"Trump\")"
   ]
  }
 ],
 "metadata": {
  "kernelspec": {
   "display_name": "Python 3.9.13 64-bit (microsoft store)",
   "language": "python",
   "name": "python3"
  },
  "language_info": {
   "codemirror_mode": {
    "name": "ipython",
    "version": 3
   },
   "file_extension": ".py",
   "mimetype": "text/x-python",
   "name": "python",
   "nbconvert_exporter": "python",
   "pygments_lexer": "ipython3",
   "version": "3.9.13"
  },
  "orig_nbformat": 4,
  "vscode": {
   "interpreter": {
    "hash": "ae25dc04c095084e91b1f2b0dfe81b87ca9c6d3934fc1ad15c6958801e08a15b"
   }
  }
 },
 "nbformat": 4,
 "nbformat_minor": 2
}
