{
 "cells": [
  {
   "cell_type": "code",
   "execution_count": 2,
   "metadata": {},
   "outputs": [],
   "source": [
    "import praw\n",
    "\n",
    "reddit = praw.Reddit(\n",
    "    client_id='lLzAuBHDjs8cCYEuTrKh3w',\n",
    "    client_secret='uqMNWpDSXYxLXpgZ90y-wWspCgYC7A',\n",
    "    username='servesociety',\n",
    "    password='Hunters3!',\n",
    "    user_agent=\"CrowdSearch\",\n",
    ")"
   ]
  },
  {
   "cell_type": "code",
   "execution_count": 3,
   "metadata": {},
   "outputs": [],
   "source": [
    "from praw.models import MoreComments\n",
    "\n",
    "def search(srch):\n",
    "\n",
    "    all = reddit.subreddit(\"all\")\n",
    "    posts = []\n",
    "    for post in all.search(srch, limit=5):\n",
    "        posts.append(post.id)\n",
    "\n",
    "    submission = reddit.submission(posts[0])\n",
    "\n",
    "    for top_level_comment in submission.comments:\n",
    "        return (top_level_comment.body)\n",
    "\n",
    "    "
   ]
  },
  {
   "cell_type": "code",
   "execution_count": 13,
   "metadata": {},
   "outputs": [
    {
     "data": {
      "text/plain": [
       "(('Only 27 people showed up to pro-Trump rally in Washington DC',\n",
       "  'Yep. If there’s any place where Donald has worn out his welcome, its DC.',\n",
       "  5447,\n",
       "  1665268589.0),\n",
       " ('Only 27 people showed up to pro-Trump rally in Washington DC',\n",
       "  'Eleven reporters, 12 protesters, two hookers, one hot dog vendor and the black guy Trump pays to be at all his rallies.',\n",
       "  11871,\n",
       "  1665269208.0),\n",
       " ('Donald Trump is asking supporters to boycott all elections. I 100% support this strategy.',\n",
       "  '(In the most monotone voice you can muster)\\n\\nOh no.  Please stop.  Anything but that.',\n",
       "  4886,\n",
       "  1665073874.0),\n",
       " ('Donald Trump is asking supporters to boycott all elections. I 100% support this strategy.',\n",
       "  \"What was it ol' Lindsey Graham said back in 2016? If we nominate Trump we will get destroyed, and we will deserve it? Well they hitched their wagon to the wrong horse, and it's currently dragging the whole party to a watery hell.\",\n",
       "  6260,\n",
       "  1665073592.0),\n",
       " ('Trump asks Supreme Court to halt DOJ review of classified documents seized from Mar-a-Lago',\n",
       "  '“…saying or implying that the court is becoming an illegitimate institution or questioning our integrity crosses an important line”—Samuel Alito\\n\\nHere’s your moment to shine, Sam.',\n",
       "  4053,\n",
       "  1664913490.0))"
      ]
     },
     "execution_count": 13,
     "metadata": {},
     "output_type": "execute_result"
    }
   ],
   "source": [
    "def merge(list1, list2, list3, list4):\n",
    "      \n",
    "    merged_list = tuple(zip(list1, list2, list3, list4)) \n",
    "    return merged_list\n",
    "\n",
    "def searches(srch):\n",
    "    titles = []\n",
    "    comms = []\n",
    "    upvotes = []\n",
    "    date = []\n",
    "    breakout = False\n",
    "\n",
    "    for submission in reddit.subreddit('all').search(srch, limit=20):\n",
    "        if breakout:\n",
    "            break\n",
    "        comments = submission.comments\n",
    "        for comment in comments:\n",
    "            if len(comms) == 5:\n",
    "                breakout = True\n",
    "                break\n",
    "            elif len(comms) < 11 and comment.stickied == False:\n",
    "                titles.append(submission.title)\n",
    "                comms.append(comment.body)\n",
    "                upvotes.append(comment.ups)\n",
    "                date.append(comment.created)\n",
    "                if len(comms) % 2 == 0:\n",
    "                    break\n",
    "            elif len(comms) < 11 and comment.stickied == True:\n",
    "                pass\n",
    "       \n",
    "    data = merge(titles,comms,upvotes,date) \n",
    "\n",
    "    return data\n",
    "\n",
    "searches(\"Trump\")"
   ]
  },
  {
   "cell_type": "code",
   "execution_count": 96,
   "metadata": {},
   "outputs": [],
   "source": [
    "from bs4 import BeautifulSoup\n",
    "import requests\n",
    "import json"
   ]
  },
  {
   "cell_type": "code",
   "execution_count": 102,
   "metadata": {},
   "outputs": [
    {
     "name": "stdout",
     "output_type": "stream",
     "text": [
      "[]\n"
     ]
    }
   ],
   "source": [
    "html_text = requests.get('http://hn.algolia.com/api/v1/search?query=' + 'will trump run as president' + '&tags=story').text\n",
    "data = json.loads(html_text)\n",
    "hits = data[\"hits\"]\n",
    "\n",
    "print(hits)"
   ]
  }
 ],
 "metadata": {
  "kernelspec": {
   "display_name": "Python 3.9.13 64-bit (microsoft store)",
   "language": "python",
   "name": "python3"
  },
  "language_info": {
   "codemirror_mode": {
    "name": "ipython",
    "version": 3
   },
   "file_extension": ".py",
   "mimetype": "text/x-python",
   "name": "python",
   "nbconvert_exporter": "python",
   "pygments_lexer": "ipython3",
   "version": "3.9.13"
  },
  "orig_nbformat": 4,
  "vscode": {
   "interpreter": {
    "hash": "ae25dc04c095084e91b1f2b0dfe81b87ca9c6d3934fc1ad15c6958801e08a15b"
   }
  }
 },
 "nbformat": 4,
 "nbformat_minor": 2
}
